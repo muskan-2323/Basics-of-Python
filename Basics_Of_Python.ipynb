{
  "nbformat": 4,
  "nbformat_minor": 0,
  "metadata": {
    "colab": {
      "provenance": []
    },
    "kernelspec": {
      "name": "python3",
      "display_name": "Python 3"
    },
    "language_info": {
      "name": "python"
    }
  },
  "cells": [
    {
      "cell_type": "markdown",
      "source": [
        "Exercise 1: Prime Numbers"
      ],
      "metadata": {
        "id": "FjYGkp3vmLsa"
      }
    },
    {
      "cell_type": "code",
      "source": [
        "def is_prime(number):\n",
        "    if number <= 1:\n",
        "        return False\n",
        "    for i in range(2, int(number**0.5) + 1):\n",
        "        if number % i == 0:\n",
        "            return False\n",
        "    return True\n",
        "\n",
        "# Test the function\n",
        "num = int(input(\"Enter a number: \"))\n",
        "if is_prime(num):\n",
        "    print(num, \"is a prime number.\")\n",
        "else:\n",
        "    print(num, \"is not a prime number.\")"
      ],
      "metadata": {
        "colab": {
          "base_uri": "https://localhost:8080/"
        },
        "id": "S9bypdi26lTK",
        "outputId": "167faddf-08f0-4cf5-f979-5233fe6f862d"
      },
      "execution_count": 6,
      "outputs": [
        {
          "output_type": "stream",
          "name": "stdout",
          "text": [
            "Enter a number: 45\n",
            "45 is not a prime number.\n"
          ]
        }
      ]
    },
    {
      "cell_type": "markdown",
      "source": [
        "This program defines a function is_prime() that takes a number as input and returns True if the number is prime, and False otherwise. It iterates through numbers from 2 to the square root of the input number and checks if any of them divides the input number evenly (i.e., with no remainder). If any such divisor is found, the number is not prime. If no divisor is found, the number is prime.\n",
        "\n",
        "\n",
        "\n",
        "\n"
      ],
      "metadata": {
        "id": "1uBSW5vT66Gy"
      }
    },
    {
      "cell_type": "markdown",
      "source": [
        "Exercise 2: Product of Random Numbers"
      ],
      "metadata": {
        "id": "H2TZbq1M7E6Y"
      }
    },
    {
      "cell_type": "code",
      "source": [
        "import random\n",
        "\n",
        "def generate_numbers():\n",
        "    num1 = random.randint(1, 10)\n",
        "    num2 = random.randint(1, 10)\n",
        "    return num1, num2\n",
        "\n",
        "def main():\n",
        "    num1, num2 = generate_numbers()\n",
        "    product = num1 * num2\n",
        "\n",
        "    user_answer = int(input(f\"What is the product of {num1} and {num2}? \"))\n",
        "\n",
        "    if user_answer == product:\n",
        "        print(\"Correct! Well done.\")\n",
        "    else:\n",
        "        print(f\"Sorry, the correct answer is {product}.\")\n",
        "\n",
        "if __name__ == \"__main__\":\n",
        "    main()"
      ],
      "metadata": {
        "colab": {
          "base_uri": "https://localhost:8080/"
        },
        "id": "vFY1osRSl860",
        "outputId": "eaaf264c-9e13-43a5-fb93-9d7ca12d22ea"
      },
      "execution_count": 3,
      "outputs": [
        {
          "output_type": "stream",
          "name": "stdout",
          "text": [
            "What is the product of 3 and 1? 3\n",
            "Correct! Well done.\n"
          ]
        }
      ]
    },
    {
      "cell_type": "markdown",
      "source": [
        "This program first defines a function generate_numbers() that generates two random numbers between 1 and 10 (inclusive). Then, in the main() function, it calls generate_numbers() to get the random numbers, calculates their product, prompts the user to enter the product, and checks if the user's answer matches the actual product. Finally, it prints an appropriate message based on the correctness of the user's answer."
      ],
      "metadata": {
        "id": "NFdHRkSApU5F"
      }
    },
    {
      "cell_type": "markdown",
      "source": [
        "Exercise 3: Squares of Even/Odd Numbers"
      ],
      "metadata": {
        "id": "rxqe3PAS7Sup"
      }
    },
    {
      "cell_type": "code",
      "source": [
        "# Printing squares of even numbers within the range of 100 to 200\n",
        "# We are choosing even numbers\n",
        "\n",
        "def print_even_squares():\n",
        "    for num in range(100, 201):\n",
        "        if num % 2 == 0:\n",
        "            print(num ** 2)\n",
        "\n",
        "print(\"Squares of even numbers within the range of 100 to 200:\")\n",
        "print_even_squares()"
      ],
      "metadata": {
        "colab": {
          "base_uri": "https://localhost:8080/"
        },
        "id": "e1ghgXuC7nli",
        "outputId": "368563d7-e3ec-4021-9575-1046c6bfdc0c"
      },
      "execution_count": 7,
      "outputs": [
        {
          "output_type": "stream",
          "name": "stdout",
          "text": [
            "Squares of even numbers within the range of 100 to 200:\n",
            "10000\n",
            "10404\n",
            "10816\n",
            "11236\n",
            "11664\n",
            "12100\n",
            "12544\n",
            "12996\n",
            "13456\n",
            "13924\n",
            "14400\n",
            "14884\n",
            "15376\n",
            "15876\n",
            "16384\n",
            "16900\n",
            "17424\n",
            "17956\n",
            "18496\n",
            "19044\n",
            "19600\n",
            "20164\n",
            "20736\n",
            "21316\n",
            "21904\n",
            "22500\n",
            "23104\n",
            "23716\n",
            "24336\n",
            "24964\n",
            "25600\n",
            "26244\n",
            "26896\n",
            "27556\n",
            "28224\n",
            "28900\n",
            "29584\n",
            "30276\n",
            "30976\n",
            "31684\n",
            "32400\n",
            "33124\n",
            "33856\n",
            "34596\n",
            "35344\n",
            "36100\n",
            "36864\n",
            "37636\n",
            "38416\n",
            "39204\n",
            "40000\n"
          ]
        }
      ]
    },
    {
      "cell_type": "markdown",
      "source": [
        "Exercise 4: Word counter"
      ],
      "metadata": {
        "id": "pd-b8lYyoSs8"
      }
    },
    {
      "cell_type": "code",
      "source": [
        "def count_words(text):\n",
        "    word_count = {}\n",
        "    words = text.split()\n",
        "\n",
        "    for word in words:\n",
        "        word = word.strip('.,!?\"\\'').lower()  # Remove punctuation and convert to lowercase\n",
        "        if word:\n",
        "            word_count[word] = word_count.get(word, 0) + 1\n",
        "\n",
        "    return word_count\n",
        "\n",
        "def main():\n",
        "    input_text = \"This is a sample text.\"\n",
        "    word_counts = count_words(input_text)\n",
        "\n",
        "    # Print the word counts\n",
        "    for word, count in word_counts.items():\n",
        "        print(f\"'{word}': {count}\")\n",
        "\n",
        "if __name__ == \"__main__\":\n",
        "    main()"
      ],
      "metadata": {
        "colab": {
          "base_uri": "https://localhost:8080/"
        },
        "id": "qg-l2hi_n5PU",
        "outputId": "4c4be02c-f617-4b28-8e66-fae356c84a09"
      },
      "execution_count": 4,
      "outputs": [
        {
          "output_type": "stream",
          "name": "stdout",
          "text": [
            "'this': 1\n",
            "'is': 1\n",
            "'a': 1\n",
            "'sample': 1\n",
            "'text': 1\n"
          ]
        }
      ]
    },
    {
      "cell_type": "markdown",
      "source": [
        "This program defines a function count_words() that takes a text as input, splits it into words, removes punctuation marks, converts each word to lowercase, and counts the occurrence of each word using a dictionary. Finally, it prints out the word counts.\n",
        "\n",
        "\n",
        "\n",
        "\n",
        "\n"
      ],
      "metadata": {
        "id": "z9sUVqnloycW"
      }
    },
    {
      "cell_type": "markdown",
      "source": [
        "Exercise 5: Check for Palindrome"
      ],
      "metadata": {
        "id": "jGoZgwv8oeKz"
      }
    },
    {
      "cell_type": "code",
      "source": [
        "def is_palindrome(s):\n",
        "    # Remove spaces, punctuation, and convert to lowercase\n",
        "    s = ''.join(char.lower() for char in s if char.isalnum())\n",
        "    # Check if the string is equal to its reverse\n",
        "    return s == s[::-1]\n",
        "\n",
        "# Test the function\n",
        "input_str = \"racecar\"\n",
        "print(is_palindrome(input_str))  # Output: True"
      ],
      "metadata": {
        "id": "zpd03StYp5hu",
        "colab": {
          "base_uri": "https://localhost:8080/"
        },
        "outputId": "067a7534-8528-4bc4-ea1d-124299659adc"
      },
      "execution_count": 5,
      "outputs": [
        {
          "output_type": "stream",
          "name": "stdout",
          "text": [
            "True\n"
          ]
        }
      ]
    },
    {
      "cell_type": "markdown",
      "source": [
        "This function removes spaces and punctuation from the input string and converts all characters to lowercase using list comprehension and the isalnum() method to check for alphanumeric characters. Then, it checks if the resulting string is equal to its reverse using slicing ([::-1]). If they are equal, it returns True; otherwise, it returns False."
      ],
      "metadata": {
        "id": "YUm3RhYHp9NE"
      }
    }
  ]
}